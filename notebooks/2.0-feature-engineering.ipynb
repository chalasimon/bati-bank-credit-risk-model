{
 "cells": [
  {
   "cell_type": "markdown",
   "id": "7a25f239",
   "metadata": {},
   "source": [
    "# Task 3: Feature Engineering"
   ]
  },
  {
   "cell_type": "code",
   "execution_count": 1,
   "id": "abb3abbc",
   "metadata": {},
   "outputs": [],
   "source": [
    "import sys\n",
    "import os\n",
    "import pandas as pd\n",
    "from glob import glob"
   ]
  },
  {
   "cell_type": "code",
   "execution_count": 2,
   "id": "8dfec7f1",
   "metadata": {},
   "outputs": [],
   "source": [
    "from pathlib import Path\n",
    "from importlib import reload\n",
    "# add project root to sys.path\n",
    "project_root = Path('..').resolve()\n",
    "if str(project_root) not in sys.path:\n",
    "    sys.path.append(str(project_root))"
   ]
  },
  {
   "cell_type": "markdown",
   "id": "c37a4c4b",
   "metadata": {},
   "source": [
    "## Loading the dataset"
   ]
  },
  {
   "cell_type": "code",
   "execution_count": 3,
   "id": "bc54a89b",
   "metadata": {},
   "outputs": [
    {
     "data": {
      "text/plain": [
       "<module 'src.data_loader' from 'D:\\\\Research & Project\\\\10academy\\\\week 5\\\\Challenge\\\\bati-bank-credit-risk-model\\\\src\\\\data_loader.py'>"
      ]
     },
     "execution_count": 3,
     "metadata": {},
     "output_type": "execute_result"
    }
   ],
   "source": [
    "# import the module to load the data into dataframes\n",
    "from src.data_loader import DataLoader\n",
    "import src.data_loader  \n",
    "reload(src.data_loader)\n"
   ]
  },
  {
   "cell_type": "code",
   "execution_count": 4,
   "id": "aff7bf3d",
   "metadata": {},
   "outputs": [],
   "source": [
    "# Load the dataset\n",
    "data_loader = DataLoader('../data/raw/data.csv')\n",
    "df = data_loader.load_data()"
   ]
  },
  {
   "cell_type": "code",
   "execution_count": 5,
   "id": "916f07a7",
   "metadata": {},
   "outputs": [
    {
     "name": "stdout",
     "output_type": "stream",
     "text": [
      "<class 'pandas.core.frame.DataFrame'>\n",
      "RangeIndex: 95662 entries, 0 to 95661\n",
      "Data columns (total 16 columns):\n",
      " #   Column                Non-Null Count  Dtype  \n",
      "---  ------                --------------  -----  \n",
      " 0   TransactionId         95662 non-null  object \n",
      " 1   BatchId               95662 non-null  object \n",
      " 2   AccountId             95662 non-null  object \n",
      " 3   SubscriptionId        95662 non-null  object \n",
      " 4   CustomerId            95662 non-null  object \n",
      " 5   CurrencyCode          95662 non-null  object \n",
      " 6   CountryCode           95662 non-null  int64  \n",
      " 7   ProviderId            95662 non-null  object \n",
      " 8   ProductId             95662 non-null  object \n",
      " 9   ProductCategory       95662 non-null  object \n",
      " 10  ChannelId             95662 non-null  object \n",
      " 11  Amount                95662 non-null  float64\n",
      " 12  Value                 95662 non-null  int64  \n",
      " 13  TransactionStartTime  95662 non-null  object \n",
      " 14  PricingStrategy       95662 non-null  int64  \n",
      " 15  FraudResult           95662 non-null  int64  \n",
      "dtypes: float64(1), int64(4), object(11)\n",
      "memory usage: 11.7+ MB\n"
     ]
    }
   ],
   "source": [
    "# Display the dataset information\n",
    "df.info()"
   ]
  },
  {
   "cell_type": "code",
   "execution_count": 6,
   "id": "0daf46c0",
   "metadata": {},
   "outputs": [
    {
     "name": "stdout",
     "output_type": "stream",
     "text": [
      "                               Column Name Data Type  Missing Values\n",
      "TransactionId                TransactionId    object               0\n",
      "BatchId                            BatchId    object               0\n",
      "AccountId                        AccountId    object               0\n",
      "SubscriptionId              SubscriptionId    object               0\n",
      "CustomerId                      CustomerId    object               0\n",
      "CurrencyCode                  CurrencyCode    object               0\n",
      "CountryCode                    CountryCode     int64               0\n",
      "ProviderId                      ProviderId    object               0\n",
      "ProductId                        ProductId    object               0\n",
      "ProductCategory            ProductCategory    object               0\n",
      "ChannelId                        ChannelId    object               0\n",
      "Amount                              Amount   float64               0\n",
      "Value                                Value     int64               0\n",
      "TransactionStartTime  TransactionStartTime    object               0\n",
      "PricingStrategy            PricingStrategy     int64               0\n",
      "FraudResult                    FraudResult     int64               0\n"
     ]
    }
   ],
   "source": [
    "# columns of the dataset with corresponding data types and missing values in tabular format\n",
    "df_columns = pd.DataFrame({\n",
    "    'Column Name': df.columns,\n",
    "    'Data Type': df.dtypes,\n",
    "    'Missing Values': df.isnull().sum()\n",
    "})\n",
    "print(df_columns)"
   ]
  },
  {
   "cell_type": "code",
   "execution_count": 7,
   "id": "946316b4",
   "metadata": {},
   "outputs": [
    {
     "data": {
      "text/plain": [
       "<module 'src.data_processing' from 'D:\\\\Research & Project\\\\10academy\\\\week 5\\\\Challenge\\\\bati-bank-credit-risk-model\\\\src\\\\data_processing.py'>"
      ]
     },
     "execution_count": 7,
     "metadata": {},
     "output_type": "execute_result"
    }
   ],
   "source": [
    "# load the module to perform feature engineering\n",
    "from src.data_processing import FeatureEngineering\n",
    "import src.data_processing\n",
    "reload(src.data_processing)\n"
   ]
  },
  {
   "cell_type": "code",
   "execution_count": 8,
   "id": "dc4cfbbd",
   "metadata": {},
   "outputs": [],
   "source": [
    "# initialize the feature engineering class\n",
    "feature_engineering = FeatureEngineering(df)"
   ]
  },
  {
   "cell_type": "code",
   "execution_count": 9,
   "id": "7f53fdb3",
   "metadata": {},
   "outputs": [
    {
     "name": "stdout",
     "output_type": "stream",
     "text": [
      "Removed 0 duplicate rows.\n"
     ]
    }
   ],
   "source": [
    "# remove duplicate rows\n",
    "df = feature_engineering.remove_duplicates()"
   ]
  },
  {
   "cell_type": "markdown",
   "id": "4d4ee524",
   "metadata": {},
   "source": [
    "### create aggregated features"
   ]
  },
  {
   "cell_type": "code",
   "execution_count": 10,
   "id": "56df4f01",
   "metadata": {},
   "outputs": [
    {
     "name": "stdout",
     "output_type": "stream",
     "text": [
      "Aggregated features created successfully.\n",
      "         TransactionId         BatchId       AccountId       SubscriptionId  \\\n",
      "0  TransactionId_76871   BatchId_36123  AccountId_3957   SubscriptionId_887   \n",
      "1  TransactionId_73770   BatchId_15642  AccountId_4841  SubscriptionId_3829   \n",
      "2  TransactionId_26203   BatchId_53941  AccountId_4229   SubscriptionId_222   \n",
      "3    TransactionId_380  BatchId_102363   AccountId_648  SubscriptionId_2185   \n",
      "4  TransactionId_28195   BatchId_38780  AccountId_4841  SubscriptionId_3829   \n",
      "\n",
      "        CustomerId CurrencyCode  CountryCode    ProviderId     ProductId  \\\n",
      "0  CustomerId_4406          UGX          256  ProviderId_6  ProductId_10   \n",
      "1  CustomerId_4406          UGX          256  ProviderId_4   ProductId_6   \n",
      "2  CustomerId_4683          UGX          256  ProviderId_6   ProductId_1   \n",
      "3   CustomerId_988          UGX          256  ProviderId_1  ProductId_21   \n",
      "4   CustomerId_988          UGX          256  ProviderId_4   ProductId_6   \n",
      "\n",
      "      ProductCategory    ChannelId   Amount  Value  TransactionStartTime  \\\n",
      "0             airtime  ChannelId_3   1000.0   1000  2018-11-15T02:18:49Z   \n",
      "1  financial_services  ChannelId_2    -20.0     20  2018-11-15T02:19:08Z   \n",
      "2             airtime  ChannelId_3    500.0    500  2018-11-15T02:44:21Z   \n",
      "3        utility_bill  ChannelId_3  20000.0  21800  2018-11-15T03:32:55Z   \n",
      "4  financial_services  ChannelId_2   -644.0    644  2018-11-15T03:34:21Z   \n",
      "\n",
      "   PricingStrategy  FraudResult  total_transaction_amount  \\\n",
      "0                2            0               642642625.5   \n",
      "1                2            0               642642625.5   \n",
      "2                2            0               642642625.5   \n",
      "3                2            0               642642625.5   \n",
      "4                2            0               642642625.5   \n",
      "\n",
      "   average_transaction_amount  transaction_count  std_transaction_amount  \n",
      "0                 6717.846433              95662           123306.797164  \n",
      "1                 6717.846433              95662           123306.797164  \n",
      "2                 6717.846433              95662           123306.797164  \n",
      "3                 6717.846433              95662           123306.797164  \n",
      "4                 6717.846433              95662           123306.797164  \n"
     ]
    }
   ],
   "source": [
    "# create aggregated features\n",
    "df = feature_engineering.create_aggregated_features()\n",
    "print(\"Aggregated features created successfully.\")\n",
    "print(df.head())\n"
   ]
  },
  {
   "cell_type": "markdown",
   "id": "4831257a",
   "metadata": {},
   "source": [
    "### Extract Features"
   ]
  },
  {
   "cell_type": "markdown",
   "id": "2fbbac28",
   "metadata": {},
   "source": [
    "#### Extract Time Features\n",
    "\n",
    "- Transaction Hour: The hour of the day when the transaction occurred.\n",
    "- Transaction Day: The day of the month when the transaction occurred.\n",
    "- Transaction Month: The month when the transaction occurred.\n",
    "- Transaction Year: The year when the transaction occurred."
   ]
  },
  {
   "cell_type": "code",
   "execution_count": 11,
   "id": "6c49317f",
   "metadata": {},
   "outputs": [
    {
     "name": "stdout",
     "output_type": "stream",
     "text": [
      "Time features extracted successfully.\n",
      "         TransactionId         BatchId       AccountId       SubscriptionId  \\\n",
      "0  TransactionId_76871   BatchId_36123  AccountId_3957   SubscriptionId_887   \n",
      "1  TransactionId_73770   BatchId_15642  AccountId_4841  SubscriptionId_3829   \n",
      "2  TransactionId_26203   BatchId_53941  AccountId_4229   SubscriptionId_222   \n",
      "3    TransactionId_380  BatchId_102363   AccountId_648  SubscriptionId_2185   \n",
      "4  TransactionId_28195   BatchId_38780  AccountId_4841  SubscriptionId_3829   \n",
      "\n",
      "        CustomerId CurrencyCode  CountryCode    ProviderId     ProductId  \\\n",
      "0  CustomerId_4406          UGX          256  ProviderId_6  ProductId_10   \n",
      "1  CustomerId_4406          UGX          256  ProviderId_4   ProductId_6   \n",
      "2  CustomerId_4683          UGX          256  ProviderId_6   ProductId_1   \n",
      "3   CustomerId_988          UGX          256  ProviderId_1  ProductId_21   \n",
      "4   CustomerId_988          UGX          256  ProviderId_4   ProductId_6   \n",
      "\n",
      "      ProductCategory  ... PricingStrategy  FraudResult  \\\n",
      "0             airtime  ...               2            0   \n",
      "1  financial_services  ...               2            0   \n",
      "2             airtime  ...               2            0   \n",
      "3        utility_bill  ...               2            0   \n",
      "4  financial_services  ...               2            0   \n",
      "\n",
      "   total_transaction_amount average_transaction_amount  transaction_count  \\\n",
      "0               642642625.5                6717.846433              95662   \n",
      "1               642642625.5                6717.846433              95662   \n",
      "2               642642625.5                6717.846433              95662   \n",
      "3               642642625.5                6717.846433              95662   \n",
      "4               642642625.5                6717.846433              95662   \n",
      "\n",
      "   std_transaction_amount  TransactionHour  TransactionDay  TransactionMonth  \\\n",
      "0           123306.797164                2              15                11   \n",
      "1           123306.797164                2              15                11   \n",
      "2           123306.797164                2              15                11   \n",
      "3           123306.797164                3              15                11   \n",
      "4           123306.797164                3              15                11   \n",
      "\n",
      "   TransactionYear  \n",
      "0             2018  \n",
      "1             2018  \n",
      "2             2018  \n",
      "3             2018  \n",
      "4             2018  \n",
      "\n",
      "[5 rows x 24 columns]\n"
     ]
    }
   ],
   "source": [
    "df = feature_engineering.extract_time_features()\n",
    "print(\"Time features extracted successfully.\")\n",
    "print(df.head())"
   ]
  },
  {
   "cell_type": "markdown",
   "id": "fa37a033",
   "metadata": {},
   "source": [
    "#### Encode Categorical Variables\n",
    "Convertion of categorical variables into numerical format by using:\n",
    "\n",
    "- One-Hot Encoding: Converts categorical values into binary vectors.\n",
    "- Label Encoding: Assigns a unique integer to each category."
   ]
  },
  {
   "cell_type": "code",
   "execution_count": 12,
   "id": "f7ad4c3a",
   "metadata": {},
   "outputs": [
    {
     "name": "stdout",
     "output_type": "stream",
     "text": [
      "Categorical variables encoded successfully.\n",
      "         TransactionId         BatchId       AccountId       SubscriptionId  \\\n",
      "0  TransactionId_76871   BatchId_36123  AccountId_3957   SubscriptionId_887   \n",
      "1  TransactionId_73770   BatchId_15642  AccountId_4841  SubscriptionId_3829   \n",
      "2  TransactionId_26203   BatchId_53941  AccountId_4229   SubscriptionId_222   \n",
      "3    TransactionId_380  BatchId_102363   AccountId_648  SubscriptionId_2185   \n",
      "4  TransactionId_28195   BatchId_38780  AccountId_4841  SubscriptionId_3829   \n",
      "\n",
      "        CustomerId CurrencyCode  CountryCode  ProviderId     ProductId  \\\n",
      "0  CustomerId_4406          UGX          256           5  ProductId_10   \n",
      "1  CustomerId_4406          UGX          256           3   ProductId_6   \n",
      "2  CustomerId_4683          UGX          256           5   ProductId_1   \n",
      "3   CustomerId_988          UGX          256           0  ProductId_21   \n",
      "4   CustomerId_988          UGX          256           3   ProductId_6   \n",
      "\n",
      "   ProductCategory  ...  ProductCategory_tv  ProductCategory_utility_bill  \\\n",
      "0                0  ...                 0.0                           0.0   \n",
      "1                2  ...                 0.0                           0.0   \n",
      "2                0  ...                 0.0                           0.0   \n",
      "3                8  ...                 0.0                           1.0   \n",
      "4                2  ...                 0.0                           0.0   \n",
      "\n",
      "   ProviderId_ProviderId_2 ProviderId_ProviderId_3  ProviderId_ProviderId_4  \\\n",
      "0                      0.0                     0.0                      0.0   \n",
      "1                      0.0                     0.0                      1.0   \n",
      "2                      0.0                     0.0                      0.0   \n",
      "3                      0.0                     0.0                      0.0   \n",
      "4                      0.0                     0.0                      1.0   \n",
      "\n",
      "   ProviderId_ProviderId_5  ProviderId_ProviderId_6  ChannelId_ChannelId_2  \\\n",
      "0                      0.0                      1.0                    0.0   \n",
      "1                      0.0                      0.0                    1.0   \n",
      "2                      0.0                      1.0                    0.0   \n",
      "3                      0.0                      0.0                    0.0   \n",
      "4                      0.0                      0.0                    1.0   \n",
      "\n",
      "   ChannelId_ChannelId_3  ChannelId_ChannelId_5  \n",
      "0                    1.0                    0.0  \n",
      "1                    0.0                    0.0  \n",
      "2                    1.0                    0.0  \n",
      "3                    1.0                    0.0  \n",
      "4                    0.0                    0.0  \n",
      "\n",
      "[5 rows x 40 columns]\n"
     ]
    }
   ],
   "source": [
    "# encode using One-Hot Encoding and label encoding\n",
    "df = feature_engineering.encode_categorical_variables(df)\n",
    "print(\"Categorical variables encoded successfully.\")\n",
    "print(df.head())"
   ]
  },
  {
   "cell_type": "markdown",
   "id": "6a6f5a3b",
   "metadata": {},
   "source": [
    "#### Handle Missing Values"
   ]
  },
  {
   "cell_type": "code",
   "execution_count": 13,
   "id": "cb21b7ee",
   "metadata": {},
   "outputs": [
    {
     "name": "stderr",
     "output_type": "stream",
     "text": [
      "D:\\Research & Project\\10academy\\week 5\\Challenge\\bati-bank-credit-risk-model\\src\\data_processing.py:60: FutureWarning: A value is trying to be set on a copy of a DataFrame or Series through chained assignment using an inplace method.\n",
      "The behavior will change in pandas 3.0. This inplace method will never work because the intermediate object on which we are setting values always behaves as a copy.\n",
      "\n",
      "For example, when doing 'df[col].method(value, inplace=True)', try using 'df.method({col: value}, inplace=True)' or df[col] = df[col].method(value) instead, to perform the operation inplace on the original object.\n",
      "\n",
      "\n",
      "  df[col].fillna(df[col].mean(), inplace=True)\n",
      "D:\\Research & Project\\10academy\\week 5\\Challenge\\bati-bank-credit-risk-model\\src\\data_processing.py:65: FutureWarning: A value is trying to be set on a copy of a DataFrame or Series through chained assignment using an inplace method.\n",
      "The behavior will change in pandas 3.0. This inplace method will never work because the intermediate object on which we are setting values always behaves as a copy.\n",
      "\n",
      "For example, when doing 'df[col].method(value, inplace=True)', try using 'df.method({col: value}, inplace=True)' or df[col] = df[col].method(value) instead, to perform the operation inplace on the original object.\n",
      "\n",
      "\n",
      "  df[col].fillna(df[col].mode()[0], inplace=True)\n"
     ]
    },
    {
     "name": "stdout",
     "output_type": "stream",
     "text": [
      "Missing values handled successfully.\n",
      "         TransactionId         BatchId       AccountId       SubscriptionId  \\\n",
      "0  TransactionId_76871   BatchId_36123  AccountId_3957   SubscriptionId_887   \n",
      "1  TransactionId_73770   BatchId_15642  AccountId_4841  SubscriptionId_3829   \n",
      "2  TransactionId_26203   BatchId_53941  AccountId_4229   SubscriptionId_222   \n",
      "3    TransactionId_380  BatchId_102363   AccountId_648  SubscriptionId_2185   \n",
      "4  TransactionId_28195   BatchId_38780  AccountId_4841  SubscriptionId_3829   \n",
      "\n",
      "        CustomerId CurrencyCode  CountryCode  ProviderId     ProductId  \\\n",
      "0  CustomerId_4406          UGX          256           5  ProductId_10   \n",
      "1  CustomerId_4406          UGX          256           3   ProductId_6   \n",
      "2  CustomerId_4683          UGX          256           5   ProductId_1   \n",
      "3   CustomerId_988          UGX          256           0  ProductId_21   \n",
      "4   CustomerId_988          UGX          256           3   ProductId_6   \n",
      "\n",
      "   ProductCategory  ...  ProductCategory_tv  ProductCategory_utility_bill  \\\n",
      "0                0  ...                 0.0                           0.0   \n",
      "1                2  ...                 0.0                           0.0   \n",
      "2                0  ...                 0.0                           0.0   \n",
      "3                8  ...                 0.0                           1.0   \n",
      "4                2  ...                 0.0                           0.0   \n",
      "\n",
      "   ProviderId_ProviderId_2 ProviderId_ProviderId_3  ProviderId_ProviderId_4  \\\n",
      "0                      0.0                     0.0                      0.0   \n",
      "1                      0.0                     0.0                      1.0   \n",
      "2                      0.0                     0.0                      0.0   \n",
      "3                      0.0                     0.0                      0.0   \n",
      "4                      0.0                     0.0                      1.0   \n",
      "\n",
      "   ProviderId_ProviderId_5  ProviderId_ProviderId_6  ChannelId_ChannelId_2  \\\n",
      "0                      0.0                      1.0                    0.0   \n",
      "1                      0.0                      0.0                    1.0   \n",
      "2                      0.0                      1.0                    0.0   \n",
      "3                      0.0                      0.0                    0.0   \n",
      "4                      0.0                      0.0                    1.0   \n",
      "\n",
      "   ChannelId_ChannelId_3  ChannelId_ChannelId_5  \n",
      "0                    1.0                    0.0  \n",
      "1                    0.0                    0.0  \n",
      "2                    1.0                    0.0  \n",
      "3                    1.0                    0.0  \n",
      "4                    0.0                    0.0  \n",
      "\n",
      "[5 rows x 40 columns]\n"
     ]
    }
   ],
   "source": [
    "df =  feature_engineering.handle_missing_values(df)\n",
    "print(\"Missing values handled successfully.\")\n",
    "print(df.head())"
   ]
  },
  {
   "cell_type": "markdown",
   "id": "54d02aab",
   "metadata": {},
   "source": [
    "#### Normalize/Standardize Numerical Features"
   ]
  },
  {
   "cell_type": "code",
   "execution_count": 14,
   "id": "2d0dbc83",
   "metadata": {},
   "outputs": [
    {
     "name": "stdout",
     "output_type": "stream",
     "text": [
      "Numerical features normalized successfully.\n",
      "         TransactionId         BatchId       AccountId       SubscriptionId  \\\n",
      "0  TransactionId_76871   BatchId_36123  AccountId_3957   SubscriptionId_887   \n",
      "1  TransactionId_73770   BatchId_15642  AccountId_4841  SubscriptionId_3829   \n",
      "2  TransactionId_26203   BatchId_53941  AccountId_4229   SubscriptionId_222   \n",
      "3    TransactionId_380  BatchId_102363   AccountId_648  SubscriptionId_2185   \n",
      "4  TransactionId_28195   BatchId_38780  AccountId_4841  SubscriptionId_3829   \n",
      "\n",
      "        CustomerId CurrencyCode  CountryCode  ProviderId     ProductId  \\\n",
      "0  CustomerId_4406          UGX          256           5  ProductId_10   \n",
      "1  CustomerId_4406          UGX          256           3   ProductId_6   \n",
      "2  CustomerId_4683          UGX          256           5   ProductId_1   \n",
      "3   CustomerId_988          UGX          256           0  ProductId_21   \n",
      "4   CustomerId_988          UGX          256           3   ProductId_6   \n",
      "\n",
      "   ProductCategory  ...  ProductCategory_tv  ProductCategory_utility_bill  \\\n",
      "0                0  ...                 0.0                           0.0   \n",
      "1                2  ...                 0.0                           0.0   \n",
      "2                0  ...                 0.0                           0.0   \n",
      "3                8  ...                 0.0                           1.0   \n",
      "4                2  ...                 0.0                           0.0   \n",
      "\n",
      "   ProviderId_ProviderId_2 ProviderId_ProviderId_3  ProviderId_ProviderId_4  \\\n",
      "0                      0.0                     0.0                      0.0   \n",
      "1                      0.0                     0.0                      1.0   \n",
      "2                      0.0                     0.0                      0.0   \n",
      "3                      0.0                     0.0                      0.0   \n",
      "4                      0.0                     0.0                      1.0   \n",
      "\n",
      "   ProviderId_ProviderId_5  ProviderId_ProviderId_6  ChannelId_ChannelId_2  \\\n",
      "0                      0.0                      1.0                    0.0   \n",
      "1                      0.0                      0.0                    1.0   \n",
      "2                      0.0                      1.0                    0.0   \n",
      "3                      0.0                      0.0                    0.0   \n",
      "4                      0.0                      0.0                    1.0   \n",
      "\n",
      "   ChannelId_ChannelId_3  ChannelId_ChannelId_5  \n",
      "0                    1.0                    0.0  \n",
      "1                    0.0                    0.0  \n",
      "2                    1.0                    0.0  \n",
      "3                    1.0                    0.0  \n",
      "4                    0.0                    0.0  \n",
      "\n",
      "[5 rows x 40 columns]\n",
      "Numerical features standardized successfully.\n"
     ]
    }
   ],
   "source": [
    "# Normalize/Standardize Numerical Features\n",
    "df = feature_engineering.normalize_numerical_features(df)\n",
    "print(\"Numerical features normalized successfully.\")\n",
    "print(df.head())\n",
    "df = feature_engineering.standardize_numerical_features(df)\n",
    "print(\"Numerical features standardized successfully.\")\n"
   ]
  },
  {
   "cell_type": "markdown",
   "id": "23d22f71",
   "metadata": {},
   "source": [
    "#### Save the Processed Data\n",
    "\n",
    "```python"
   ]
  },
  {
   "cell_type": "code",
   "execution_count": 15,
   "id": "5c7d1487",
   "metadata": {},
   "outputs": [
    {
     "name": "stdout",
     "output_type": "stream",
     "text": [
      "Processed data saved to ../data/processed/processed_data.csv\n"
     ]
    }
   ],
   "source": [
    "outout_file = '../data/processed/processed_data.csv'\n",
    "feature_engineering.save_processed_data(df, outout_file)\n"
   ]
  }
 ],
 "metadata": {
  "kernelspec": {
   "display_name": ".venv",
   "language": "python",
   "name": "python3"
  },
  "language_info": {
   "codemirror_mode": {
    "name": "ipython",
    "version": 3
   },
   "file_extension": ".py",
   "mimetype": "text/x-python",
   "name": "python",
   "nbconvert_exporter": "python",
   "pygments_lexer": "ipython3",
   "version": "3.13.3"
  }
 },
 "nbformat": 4,
 "nbformat_minor": 5
}
