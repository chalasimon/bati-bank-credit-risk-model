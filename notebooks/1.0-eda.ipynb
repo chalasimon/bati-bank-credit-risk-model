{
 "cells": [
  {
   "cell_type": "markdown",
   "id": "7ae86106",
   "metadata": {},
   "source": [
    "# Task 2: Expolaratory Data Analysis (EDA)"
   ]
  }
 ],
 "metadata": {
  "kernelspec": {
   "display_name": ".venv",
   "language": "python",
   "name": "python3"
  },
  "language_info": {
   "name": "python",
   "version": "3.13.3"
  }
 },
 "nbformat": 4,
 "nbformat_minor": 5
}
