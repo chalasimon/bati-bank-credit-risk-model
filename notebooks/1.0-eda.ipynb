{
 "cells": [
  {
   "cell_type": "markdown",
   "id": "7ae86106",
   "metadata": {},
   "source": [
    "# Task 2: Expolaratory Data Analysis (EDA)"
   ]
  },
  {
   "cell_type": "code",
   "execution_count": 8,
   "id": "e40aa5fb",
   "metadata": {},
   "outputs": [],
   "source": [
    "import sys\n",
    "import os\n",
    "import pandas as pd\n",
    "from glob import glob"
   ]
  },
  {
   "cell_type": "code",
   "execution_count": 9,
   "id": "ea569112",
   "metadata": {},
   "outputs": [],
   "source": [
    "from pathlib import Path\n",
    "from importlib import reload\n",
    "# add the project root to the path\n",
    "project_root = Path(\"..\").resolve()\n",
    "if str(project_root) not in sys.path:\n",
    "    sys.path.insert(0, str(project_root))"
   ]
  },
  {
   "cell_type": "markdown",
   "id": "dcc2181f",
   "metadata": {},
   "source": [
    "## Data Loading"
   ]
  },
  {
   "cell_type": "code",
   "execution_count": 10,
   "id": "dcb2ca02",
   "metadata": {},
   "outputs": [
    {
     "data": {
      "text/plain": [
       "<module 'src.data_loader' from 'D:\\\\Research & Project\\\\10academy\\\\week 5\\\\Challenge\\\\bati-bank-credit-risk-model\\\\src\\\\data_loader.py'>"
      ]
     },
     "execution_count": 10,
     "metadata": {},
     "output_type": "execute_result"
    }
   ],
   "source": [
    "# import the module to load the data into dataframes\n",
    "from src.data_loader import DataLoader\n",
    "import src.data_loader\n",
    "reload(src.data_loader)"
   ]
  },
  {
   "cell_type": "code",
   "execution_count": 13,
   "id": "7644c58b",
   "metadata": {},
   "outputs": [],
   "source": [
    "# Load the dataset\n",
    "data_loader = DataLoader('../data/raw/data.csv')\n",
    "data = data_loader.load_data()"
   ]
  },
  {
   "cell_type": "markdown",
   "id": "2b652bef",
   "metadata": {},
   "source": [
    "## EDA"
   ]
  },
  {
   "cell_type": "markdown",
   "id": "26f44f6a",
   "metadata": {},
   "source": [
    "### Overview of the Data"
   ]
  },
  {
   "cell_type": "code",
   "execution_count": 15,
   "id": "c9c65e72",
   "metadata": {},
   "outputs": [
    {
     "data": {
      "application/vnd.microsoft.datawrangler.viewer.v0+json": {
       "columns": [
        {
         "name": "index",
         "rawType": "int64",
         "type": "integer"
        },
        {
         "name": "TransactionId",
         "rawType": "object",
         "type": "string"
        },
        {
         "name": "BatchId",
         "rawType": "object",
         "type": "string"
        },
        {
         "name": "AccountId",
         "rawType": "object",
         "type": "string"
        },
        {
         "name": "SubscriptionId",
         "rawType": "object",
         "type": "string"
        },
        {
         "name": "CustomerId",
         "rawType": "object",
         "type": "string"
        },
        {
         "name": "CurrencyCode",
         "rawType": "object",
         "type": "string"
        },
        {
         "name": "CountryCode",
         "rawType": "int64",
         "type": "integer"
        },
        {
         "name": "ProviderId",
         "rawType": "object",
         "type": "string"
        },
        {
         "name": "ProductId",
         "rawType": "object",
         "type": "string"
        },
        {
         "name": "ProductCategory",
         "rawType": "object",
         "type": "string"
        },
        {
         "name": "ChannelId",
         "rawType": "object",
         "type": "string"
        },
        {
         "name": "Amount",
         "rawType": "float64",
         "type": "float"
        },
        {
         "name": "Value",
         "rawType": "int64",
         "type": "integer"
        },
        {
         "name": "TransactionStartTime",
         "rawType": "object",
         "type": "string"
        },
        {
         "name": "PricingStrategy",
         "rawType": "int64",
         "type": "integer"
        },
        {
         "name": "FraudResult",
         "rawType": "int64",
         "type": "integer"
        }
       ],
       "ref": "8763ee04-1c92-4715-b70c-dad6760cc020",
       "rows": [
        [
         "0",
         "TransactionId_76871",
         "BatchId_36123",
         "AccountId_3957",
         "SubscriptionId_887",
         "CustomerId_4406",
         "UGX",
         "256",
         "ProviderId_6",
         "ProductId_10",
         "airtime",
         "ChannelId_3",
         "1000.0",
         "1000",
         "2018-11-15T02:18:49Z",
         "2",
         "0"
        ],
        [
         "1",
         "TransactionId_73770",
         "BatchId_15642",
         "AccountId_4841",
         "SubscriptionId_3829",
         "CustomerId_4406",
         "UGX",
         "256",
         "ProviderId_4",
         "ProductId_6",
         "financial_services",
         "ChannelId_2",
         "-20.0",
         "20",
         "2018-11-15T02:19:08Z",
         "2",
         "0"
        ],
        [
         "2",
         "TransactionId_26203",
         "BatchId_53941",
         "AccountId_4229",
         "SubscriptionId_222",
         "CustomerId_4683",
         "UGX",
         "256",
         "ProviderId_6",
         "ProductId_1",
         "airtime",
         "ChannelId_3",
         "500.0",
         "500",
         "2018-11-15T02:44:21Z",
         "2",
         "0"
        ],
        [
         "3",
         "TransactionId_380",
         "BatchId_102363",
         "AccountId_648",
         "SubscriptionId_2185",
         "CustomerId_988",
         "UGX",
         "256",
         "ProviderId_1",
         "ProductId_21",
         "utility_bill",
         "ChannelId_3",
         "20000.0",
         "21800",
         "2018-11-15T03:32:55Z",
         "2",
         "0"
        ],
        [
         "4",
         "TransactionId_28195",
         "BatchId_38780",
         "AccountId_4841",
         "SubscriptionId_3829",
         "CustomerId_988",
         "UGX",
         "256",
         "ProviderId_4",
         "ProductId_6",
         "financial_services",
         "ChannelId_2",
         "-644.0",
         "644",
         "2018-11-15T03:34:21Z",
         "2",
         "0"
        ],
        [
         "5",
         "TransactionId_23223",
         "BatchId_25954",
         "AccountId_1078",
         "SubscriptionId_4238",
         "CustomerId_1432",
         "UGX",
         "256",
         "ProviderId_6",
         "ProductId_3",
         "airtime",
         "ChannelId_3",
         "2000.0",
         "2000",
         "2018-11-15T03:35:10Z",
         "2",
         "0"
        ],
        [
         "6",
         "TransactionId_118063",
         "BatchId_118460",
         "AccountId_2442",
         "SubscriptionId_1980",
         "CustomerId_2858",
         "UGX",
         "256",
         "ProviderId_5",
         "ProductId_3",
         "airtime",
         "ChannelId_3",
         "10000.0",
         "10000",
         "2018-11-15T03:44:31Z",
         "4",
         "0"
        ],
        [
         "7",
         "TransactionId_100640",
         "BatchId_38561",
         "AccountId_4841",
         "SubscriptionId_3829",
         "CustomerId_2858",
         "UGX",
         "256",
         "ProviderId_4",
         "ProductId_6",
         "financial_services",
         "ChannelId_2",
         "-500.0",
         "500",
         "2018-11-15T03:45:13Z",
         "2",
         "0"
        ],
        [
         "8",
         "TransactionId_51905",
         "BatchId_93774",
         "AccountId_272",
         "SubscriptionId_4731",
         "CustomerId_598",
         "UGX",
         "256",
         "ProviderId_6",
         "ProductId_10",
         "airtime",
         "ChannelId_3",
         "500.0",
         "500",
         "2018-11-15T04:14:59Z",
         "2",
         "0"
        ],
        [
         "9",
         "TransactionId_130161",
         "BatchId_82409",
         "AccountId_710",
         "SubscriptionId_920",
         "CustomerId_1053",
         "UGX",
         "256",
         "ProviderId_1",
         "ProductId_15",
         "financial_services",
         "ChannelId_3",
         "600.0",
         "600",
         "2018-11-15T04:31:48Z",
         "2",
         "0"
        ]
       ],
       "shape": {
        "columns": 16,
        "rows": 10
       }
      },
      "text/html": [
       "<div>\n",
       "<style scoped>\n",
       "    .dataframe tbody tr th:only-of-type {\n",
       "        vertical-align: middle;\n",
       "    }\n",
       "\n",
       "    .dataframe tbody tr th {\n",
       "        vertical-align: top;\n",
       "    }\n",
       "\n",
       "    .dataframe thead th {\n",
       "        text-align: right;\n",
       "    }\n",
       "</style>\n",
       "<table border=\"1\" class=\"dataframe\">\n",
       "  <thead>\n",
       "    <tr style=\"text-align: right;\">\n",
       "      <th></th>\n",
       "      <th>TransactionId</th>\n",
       "      <th>BatchId</th>\n",
       "      <th>AccountId</th>\n",
       "      <th>SubscriptionId</th>\n",
       "      <th>CustomerId</th>\n",
       "      <th>CurrencyCode</th>\n",
       "      <th>CountryCode</th>\n",
       "      <th>ProviderId</th>\n",
       "      <th>ProductId</th>\n",
       "      <th>ProductCategory</th>\n",
       "      <th>ChannelId</th>\n",
       "      <th>Amount</th>\n",
       "      <th>Value</th>\n",
       "      <th>TransactionStartTime</th>\n",
       "      <th>PricingStrategy</th>\n",
       "      <th>FraudResult</th>\n",
       "    </tr>\n",
       "  </thead>\n",
       "  <tbody>\n",
       "    <tr>\n",
       "      <th>0</th>\n",
       "      <td>TransactionId_76871</td>\n",
       "      <td>BatchId_36123</td>\n",
       "      <td>AccountId_3957</td>\n",
       "      <td>SubscriptionId_887</td>\n",
       "      <td>CustomerId_4406</td>\n",
       "      <td>UGX</td>\n",
       "      <td>256</td>\n",
       "      <td>ProviderId_6</td>\n",
       "      <td>ProductId_10</td>\n",
       "      <td>airtime</td>\n",
       "      <td>ChannelId_3</td>\n",
       "      <td>1000.0</td>\n",
       "      <td>1000</td>\n",
       "      <td>2018-11-15T02:18:49Z</td>\n",
       "      <td>2</td>\n",
       "      <td>0</td>\n",
       "    </tr>\n",
       "    <tr>\n",
       "      <th>1</th>\n",
       "      <td>TransactionId_73770</td>\n",
       "      <td>BatchId_15642</td>\n",
       "      <td>AccountId_4841</td>\n",
       "      <td>SubscriptionId_3829</td>\n",
       "      <td>CustomerId_4406</td>\n",
       "      <td>UGX</td>\n",
       "      <td>256</td>\n",
       "      <td>ProviderId_4</td>\n",
       "      <td>ProductId_6</td>\n",
       "      <td>financial_services</td>\n",
       "      <td>ChannelId_2</td>\n",
       "      <td>-20.0</td>\n",
       "      <td>20</td>\n",
       "      <td>2018-11-15T02:19:08Z</td>\n",
       "      <td>2</td>\n",
       "      <td>0</td>\n",
       "    </tr>\n",
       "    <tr>\n",
       "      <th>2</th>\n",
       "      <td>TransactionId_26203</td>\n",
       "      <td>BatchId_53941</td>\n",
       "      <td>AccountId_4229</td>\n",
       "      <td>SubscriptionId_222</td>\n",
       "      <td>CustomerId_4683</td>\n",
       "      <td>UGX</td>\n",
       "      <td>256</td>\n",
       "      <td>ProviderId_6</td>\n",
       "      <td>ProductId_1</td>\n",
       "      <td>airtime</td>\n",
       "      <td>ChannelId_3</td>\n",
       "      <td>500.0</td>\n",
       "      <td>500</td>\n",
       "      <td>2018-11-15T02:44:21Z</td>\n",
       "      <td>2</td>\n",
       "      <td>0</td>\n",
       "    </tr>\n",
       "    <tr>\n",
       "      <th>3</th>\n",
       "      <td>TransactionId_380</td>\n",
       "      <td>BatchId_102363</td>\n",
       "      <td>AccountId_648</td>\n",
       "      <td>SubscriptionId_2185</td>\n",
       "      <td>CustomerId_988</td>\n",
       "      <td>UGX</td>\n",
       "      <td>256</td>\n",
       "      <td>ProviderId_1</td>\n",
       "      <td>ProductId_21</td>\n",
       "      <td>utility_bill</td>\n",
       "      <td>ChannelId_3</td>\n",
       "      <td>20000.0</td>\n",
       "      <td>21800</td>\n",
       "      <td>2018-11-15T03:32:55Z</td>\n",
       "      <td>2</td>\n",
       "      <td>0</td>\n",
       "    </tr>\n",
       "    <tr>\n",
       "      <th>4</th>\n",
       "      <td>TransactionId_28195</td>\n",
       "      <td>BatchId_38780</td>\n",
       "      <td>AccountId_4841</td>\n",
       "      <td>SubscriptionId_3829</td>\n",
       "      <td>CustomerId_988</td>\n",
       "      <td>UGX</td>\n",
       "      <td>256</td>\n",
       "      <td>ProviderId_4</td>\n",
       "      <td>ProductId_6</td>\n",
       "      <td>financial_services</td>\n",
       "      <td>ChannelId_2</td>\n",
       "      <td>-644.0</td>\n",
       "      <td>644</td>\n",
       "      <td>2018-11-15T03:34:21Z</td>\n",
       "      <td>2</td>\n",
       "      <td>0</td>\n",
       "    </tr>\n",
       "    <tr>\n",
       "      <th>5</th>\n",
       "      <td>TransactionId_23223</td>\n",
       "      <td>BatchId_25954</td>\n",
       "      <td>AccountId_1078</td>\n",
       "      <td>SubscriptionId_4238</td>\n",
       "      <td>CustomerId_1432</td>\n",
       "      <td>UGX</td>\n",
       "      <td>256</td>\n",
       "      <td>ProviderId_6</td>\n",
       "      <td>ProductId_3</td>\n",
       "      <td>airtime</td>\n",
       "      <td>ChannelId_3</td>\n",
       "      <td>2000.0</td>\n",
       "      <td>2000</td>\n",
       "      <td>2018-11-15T03:35:10Z</td>\n",
       "      <td>2</td>\n",
       "      <td>0</td>\n",
       "    </tr>\n",
       "    <tr>\n",
       "      <th>6</th>\n",
       "      <td>TransactionId_118063</td>\n",
       "      <td>BatchId_118460</td>\n",
       "      <td>AccountId_2442</td>\n",
       "      <td>SubscriptionId_1980</td>\n",
       "      <td>CustomerId_2858</td>\n",
       "      <td>UGX</td>\n",
       "      <td>256</td>\n",
       "      <td>ProviderId_5</td>\n",
       "      <td>ProductId_3</td>\n",
       "      <td>airtime</td>\n",
       "      <td>ChannelId_3</td>\n",
       "      <td>10000.0</td>\n",
       "      <td>10000</td>\n",
       "      <td>2018-11-15T03:44:31Z</td>\n",
       "      <td>4</td>\n",
       "      <td>0</td>\n",
       "    </tr>\n",
       "    <tr>\n",
       "      <th>7</th>\n",
       "      <td>TransactionId_100640</td>\n",
       "      <td>BatchId_38561</td>\n",
       "      <td>AccountId_4841</td>\n",
       "      <td>SubscriptionId_3829</td>\n",
       "      <td>CustomerId_2858</td>\n",
       "      <td>UGX</td>\n",
       "      <td>256</td>\n",
       "      <td>ProviderId_4</td>\n",
       "      <td>ProductId_6</td>\n",
       "      <td>financial_services</td>\n",
       "      <td>ChannelId_2</td>\n",
       "      <td>-500.0</td>\n",
       "      <td>500</td>\n",
       "      <td>2018-11-15T03:45:13Z</td>\n",
       "      <td>2</td>\n",
       "      <td>0</td>\n",
       "    </tr>\n",
       "    <tr>\n",
       "      <th>8</th>\n",
       "      <td>TransactionId_51905</td>\n",
       "      <td>BatchId_93774</td>\n",
       "      <td>AccountId_272</td>\n",
       "      <td>SubscriptionId_4731</td>\n",
       "      <td>CustomerId_598</td>\n",
       "      <td>UGX</td>\n",
       "      <td>256</td>\n",
       "      <td>ProviderId_6</td>\n",
       "      <td>ProductId_10</td>\n",
       "      <td>airtime</td>\n",
       "      <td>ChannelId_3</td>\n",
       "      <td>500.0</td>\n",
       "      <td>500</td>\n",
       "      <td>2018-11-15T04:14:59Z</td>\n",
       "      <td>2</td>\n",
       "      <td>0</td>\n",
       "    </tr>\n",
       "    <tr>\n",
       "      <th>9</th>\n",
       "      <td>TransactionId_130161</td>\n",
       "      <td>BatchId_82409</td>\n",
       "      <td>AccountId_710</td>\n",
       "      <td>SubscriptionId_920</td>\n",
       "      <td>CustomerId_1053</td>\n",
       "      <td>UGX</td>\n",
       "      <td>256</td>\n",
       "      <td>ProviderId_1</td>\n",
       "      <td>ProductId_15</td>\n",
       "      <td>financial_services</td>\n",
       "      <td>ChannelId_3</td>\n",
       "      <td>600.0</td>\n",
       "      <td>600</td>\n",
       "      <td>2018-11-15T04:31:48Z</td>\n",
       "      <td>2</td>\n",
       "      <td>0</td>\n",
       "    </tr>\n",
       "  </tbody>\n",
       "</table>\n",
       "</div>"
      ],
      "text/plain": [
       "          TransactionId         BatchId       AccountId       SubscriptionId  \\\n",
       "0   TransactionId_76871   BatchId_36123  AccountId_3957   SubscriptionId_887   \n",
       "1   TransactionId_73770   BatchId_15642  AccountId_4841  SubscriptionId_3829   \n",
       "2   TransactionId_26203   BatchId_53941  AccountId_4229   SubscriptionId_222   \n",
       "3     TransactionId_380  BatchId_102363   AccountId_648  SubscriptionId_2185   \n",
       "4   TransactionId_28195   BatchId_38780  AccountId_4841  SubscriptionId_3829   \n",
       "5   TransactionId_23223   BatchId_25954  AccountId_1078  SubscriptionId_4238   \n",
       "6  TransactionId_118063  BatchId_118460  AccountId_2442  SubscriptionId_1980   \n",
       "7  TransactionId_100640   BatchId_38561  AccountId_4841  SubscriptionId_3829   \n",
       "8   TransactionId_51905   BatchId_93774   AccountId_272  SubscriptionId_4731   \n",
       "9  TransactionId_130161   BatchId_82409   AccountId_710   SubscriptionId_920   \n",
       "\n",
       "        CustomerId CurrencyCode  CountryCode    ProviderId     ProductId  \\\n",
       "0  CustomerId_4406          UGX          256  ProviderId_6  ProductId_10   \n",
       "1  CustomerId_4406          UGX          256  ProviderId_4   ProductId_6   \n",
       "2  CustomerId_4683          UGX          256  ProviderId_6   ProductId_1   \n",
       "3   CustomerId_988          UGX          256  ProviderId_1  ProductId_21   \n",
       "4   CustomerId_988          UGX          256  ProviderId_4   ProductId_6   \n",
       "5  CustomerId_1432          UGX          256  ProviderId_6   ProductId_3   \n",
       "6  CustomerId_2858          UGX          256  ProviderId_5   ProductId_3   \n",
       "7  CustomerId_2858          UGX          256  ProviderId_4   ProductId_6   \n",
       "8   CustomerId_598          UGX          256  ProviderId_6  ProductId_10   \n",
       "9  CustomerId_1053          UGX          256  ProviderId_1  ProductId_15   \n",
       "\n",
       "      ProductCategory    ChannelId   Amount  Value  TransactionStartTime  \\\n",
       "0             airtime  ChannelId_3   1000.0   1000  2018-11-15T02:18:49Z   \n",
       "1  financial_services  ChannelId_2    -20.0     20  2018-11-15T02:19:08Z   \n",
       "2             airtime  ChannelId_3    500.0    500  2018-11-15T02:44:21Z   \n",
       "3        utility_bill  ChannelId_3  20000.0  21800  2018-11-15T03:32:55Z   \n",
       "4  financial_services  ChannelId_2   -644.0    644  2018-11-15T03:34:21Z   \n",
       "5             airtime  ChannelId_3   2000.0   2000  2018-11-15T03:35:10Z   \n",
       "6             airtime  ChannelId_3  10000.0  10000  2018-11-15T03:44:31Z   \n",
       "7  financial_services  ChannelId_2   -500.0    500  2018-11-15T03:45:13Z   \n",
       "8             airtime  ChannelId_3    500.0    500  2018-11-15T04:14:59Z   \n",
       "9  financial_services  ChannelId_3    600.0    600  2018-11-15T04:31:48Z   \n",
       "\n",
       "   PricingStrategy  FraudResult  \n",
       "0                2            0  \n",
       "1                2            0  \n",
       "2                2            0  \n",
       "3                2            0  \n",
       "4                2            0  \n",
       "5                2            0  \n",
       "6                4            0  \n",
       "7                2            0  \n",
       "8                2            0  \n",
       "9                2            0  "
      ]
     },
     "execution_count": 15,
     "metadata": {},
     "output_type": "execute_result"
    }
   ],
   "source": [
    "# Display the first 10 rows of the dataset\n",
    "data.head(10)"
   ]
  },
  {
   "cell_type": "code",
   "execution_count": 14,
   "id": "2d9af060",
   "metadata": {},
   "outputs": [
    {
     "name": "stdout",
     "output_type": "stream",
     "text": [
      "<class 'pandas.core.frame.DataFrame'>\n",
      "RangeIndex: 95662 entries, 0 to 95661\n",
      "Data columns (total 16 columns):\n",
      " #   Column                Non-Null Count  Dtype  \n",
      "---  ------                --------------  -----  \n",
      " 0   TransactionId         95662 non-null  object \n",
      " 1   BatchId               95662 non-null  object \n",
      " 2   AccountId             95662 non-null  object \n",
      " 3   SubscriptionId        95662 non-null  object \n",
      " 4   CustomerId            95662 non-null  object \n",
      " 5   CurrencyCode          95662 non-null  object \n",
      " 6   CountryCode           95662 non-null  int64  \n",
      " 7   ProviderId            95662 non-null  object \n",
      " 8   ProductId             95662 non-null  object \n",
      " 9   ProductCategory       95662 non-null  object \n",
      " 10  ChannelId             95662 non-null  object \n",
      " 11  Amount                95662 non-null  float64\n",
      " 12  Value                 95662 non-null  int64  \n",
      " 13  TransactionStartTime  95662 non-null  object \n",
      " 14  PricingStrategy       95662 non-null  int64  \n",
      " 15  FraudResult           95662 non-null  int64  \n",
      "dtypes: float64(1), int64(4), object(11)\n",
      "memory usage: 11.7+ MB\n"
     ]
    }
   ],
   "source": [
    "data.info()"
   ]
  },
  {
   "cell_type": "code",
   "execution_count": 16,
   "id": "882e146d",
   "metadata": {},
   "outputs": [
    {
     "name": "stdout",
     "output_type": "stream",
     "text": [
      "Shape of the dataset: (95662, 16)\n"
     ]
    }
   ],
   "source": [
    "# display shape of the dataset\n",
    "print(f\"Shape of the dataset: {data.shape}\")"
   ]
  },
  {
   "cell_type": "markdown",
   "id": "189b641a",
   "metadata": {},
   "source": [
    "### Summary Statistics"
   ]
  },
  {
   "cell_type": "code",
   "execution_count": 17,
   "id": "3e08a9f1",
   "metadata": {},
   "outputs": [
    {
     "data": {
      "application/vnd.microsoft.datawrangler.viewer.v0+json": {
       "columns": [
        {
         "name": "index",
         "rawType": "object",
         "type": "string"
        },
        {
         "name": "CountryCode",
         "rawType": "float64",
         "type": "float"
        },
        {
         "name": "Amount",
         "rawType": "float64",
         "type": "float"
        },
        {
         "name": "Value",
         "rawType": "float64",
         "type": "float"
        },
        {
         "name": "PricingStrategy",
         "rawType": "float64",
         "type": "float"
        },
        {
         "name": "FraudResult",
         "rawType": "float64",
         "type": "float"
        }
       ],
       "ref": "fff6dccf-f982-4217-86b2-4a8ed28cace5",
       "rows": [
        [
         "count",
         "95662.0",
         "95662.0",
         "95662.0",
         "95662.0",
         "95662.0"
        ],
        [
         "mean",
         "256.0",
         "6717.846433275491",
         "9900.583941376932",
         "2.25597415901821",
         "0.00201752001839811"
        ],
        [
         "std",
         "0.0",
         "123306.79716433848",
         "123122.08777619714",
         "0.732924109485572",
         "0.04487171357472356"
        ],
        [
         "min",
         "256.0",
         "-1000000.0",
         "2.0",
         "0.0",
         "0.0"
        ],
        [
         "25%",
         "256.0",
         "-50.0",
         "275.0",
         "2.0",
         "0.0"
        ],
        [
         "50%",
         "256.0",
         "1000.0",
         "1000.0",
         "2.0",
         "0.0"
        ],
        [
         "75%",
         "256.0",
         "2800.0",
         "5000.0",
         "2.0",
         "0.0"
        ],
        [
         "max",
         "256.0",
         "9880000.0",
         "9880000.0",
         "4.0",
         "1.0"
        ]
       ],
       "shape": {
        "columns": 5,
        "rows": 8
       }
      },
      "text/html": [
       "<div>\n",
       "<style scoped>\n",
       "    .dataframe tbody tr th:only-of-type {\n",
       "        vertical-align: middle;\n",
       "    }\n",
       "\n",
       "    .dataframe tbody tr th {\n",
       "        vertical-align: top;\n",
       "    }\n",
       "\n",
       "    .dataframe thead th {\n",
       "        text-align: right;\n",
       "    }\n",
       "</style>\n",
       "<table border=\"1\" class=\"dataframe\">\n",
       "  <thead>\n",
       "    <tr style=\"text-align: right;\">\n",
       "      <th></th>\n",
       "      <th>CountryCode</th>\n",
       "      <th>Amount</th>\n",
       "      <th>Value</th>\n",
       "      <th>PricingStrategy</th>\n",
       "      <th>FraudResult</th>\n",
       "    </tr>\n",
       "  </thead>\n",
       "  <tbody>\n",
       "    <tr>\n",
       "      <th>count</th>\n",
       "      <td>95662.0</td>\n",
       "      <td>9.566200e+04</td>\n",
       "      <td>9.566200e+04</td>\n",
       "      <td>95662.000000</td>\n",
       "      <td>95662.000000</td>\n",
       "    </tr>\n",
       "    <tr>\n",
       "      <th>mean</th>\n",
       "      <td>256.0</td>\n",
       "      <td>6.717846e+03</td>\n",
       "      <td>9.900584e+03</td>\n",
       "      <td>2.255974</td>\n",
       "      <td>0.002018</td>\n",
       "    </tr>\n",
       "    <tr>\n",
       "      <th>std</th>\n",
       "      <td>0.0</td>\n",
       "      <td>1.233068e+05</td>\n",
       "      <td>1.231221e+05</td>\n",
       "      <td>0.732924</td>\n",
       "      <td>0.044872</td>\n",
       "    </tr>\n",
       "    <tr>\n",
       "      <th>min</th>\n",
       "      <td>256.0</td>\n",
       "      <td>-1.000000e+06</td>\n",
       "      <td>2.000000e+00</td>\n",
       "      <td>0.000000</td>\n",
       "      <td>0.000000</td>\n",
       "    </tr>\n",
       "    <tr>\n",
       "      <th>25%</th>\n",
       "      <td>256.0</td>\n",
       "      <td>-5.000000e+01</td>\n",
       "      <td>2.750000e+02</td>\n",
       "      <td>2.000000</td>\n",
       "      <td>0.000000</td>\n",
       "    </tr>\n",
       "    <tr>\n",
       "      <th>50%</th>\n",
       "      <td>256.0</td>\n",
       "      <td>1.000000e+03</td>\n",
       "      <td>1.000000e+03</td>\n",
       "      <td>2.000000</td>\n",
       "      <td>0.000000</td>\n",
       "    </tr>\n",
       "    <tr>\n",
       "      <th>75%</th>\n",
       "      <td>256.0</td>\n",
       "      <td>2.800000e+03</td>\n",
       "      <td>5.000000e+03</td>\n",
       "      <td>2.000000</td>\n",
       "      <td>0.000000</td>\n",
       "    </tr>\n",
       "    <tr>\n",
       "      <th>max</th>\n",
       "      <td>256.0</td>\n",
       "      <td>9.880000e+06</td>\n",
       "      <td>9.880000e+06</td>\n",
       "      <td>4.000000</td>\n",
       "      <td>1.000000</td>\n",
       "    </tr>\n",
       "  </tbody>\n",
       "</table>\n",
       "</div>"
      ],
      "text/plain": [
       "       CountryCode        Amount         Value  PricingStrategy   FraudResult\n",
       "count      95662.0  9.566200e+04  9.566200e+04     95662.000000  95662.000000\n",
       "mean         256.0  6.717846e+03  9.900584e+03         2.255974      0.002018\n",
       "std            0.0  1.233068e+05  1.231221e+05         0.732924      0.044872\n",
       "min          256.0 -1.000000e+06  2.000000e+00         0.000000      0.000000\n",
       "25%          256.0 -5.000000e+01  2.750000e+02         2.000000      0.000000\n",
       "50%          256.0  1.000000e+03  1.000000e+03         2.000000      0.000000\n",
       "75%          256.0  2.800000e+03  5.000000e+03         2.000000      0.000000\n",
       "max          256.0  9.880000e+06  9.880000e+06         4.000000      1.000000"
      ]
     },
     "execution_count": 17,
     "metadata": {},
     "output_type": "execute_result"
    }
   ],
   "source": [
    "# Overview of the Data\n",
    "data.describe()"
   ]
  },
  {
   "cell_type": "code",
   "execution_count": 18,
   "id": "8abbc8f6",
   "metadata": {},
   "outputs": [
    {
     "name": "stdout",
     "output_type": "stream",
     "text": [
      "Categorical columns:\n",
      "- TransactionId\n",
      "- BatchId\n",
      "- AccountId\n",
      "- SubscriptionId\n",
      "- CustomerId\n",
      "- CurrencyCode\n",
      "- ProviderId\n",
      "- ProductId\n",
      "- ProductCategory\n",
      "- ChannelId\n",
      "- TransactionStartTime\n"
     ]
    }
   ],
   "source": [
    "# print categorical columns\n",
    "print(\"Categorical columns:\")\n",
    "for col in data.select_dtypes(include=['object']).columns:\n",
    "    print(f\"- {col}\")"
   ]
  },
  {
   "cell_type": "code",
   "execution_count": null,
   "id": "523fb27d",
   "metadata": {},
   "outputs": [
    {
     "name": "stdout",
     "output_type": "stream",
     "text": [
      "Numerical columns:\n",
      "- CountryCode\n",
      "- Amount\n",
      "- Value\n",
      "- PricingStrategy\n",
      "- FraudResult\n"
     ]
    }
   ],
   "source": [
    "# print numerical columns\n",
    "print(\"Numerical columns:\")\n",
    "for col in data.select_dtypes(include=['number']).columns:\n",
    "    print(f\"- {col}\")         "
   ]
  },
  {
   "cell_type": "code",
   "execution_count": 23,
   "id": "20ae7957",
   "metadata": {},
   "outputs": [
    {
     "name": "stdout",
     "output_type": "stream",
     "text": [
      "Numerical Description:\n",
      "--------------------------------------------------\n"
     ]
    },
    {
     "data": {
      "application/vnd.microsoft.datawrangler.viewer.v0+json": {
       "columns": [
        {
         "name": "index",
         "rawType": "object",
         "type": "string"
        },
        {
         "name": "CountryCode",
         "rawType": "float64",
         "type": "float"
        },
        {
         "name": "Amount",
         "rawType": "float64",
         "type": "float"
        },
        {
         "name": "Value",
         "rawType": "float64",
         "type": "float"
        },
        {
         "name": "PricingStrategy",
         "rawType": "float64",
         "type": "float"
        },
        {
         "name": "FraudResult",
         "rawType": "float64",
         "type": "float"
        }
       ],
       "ref": "7e235a23-7fe0-48cf-a6e6-fbe523add057",
       "rows": [
        [
         "count",
         "95662.0",
         "95662.0",
         "95662.0",
         "95662.0",
         "95662.0"
        ],
        [
         "mean",
         "256.0",
         "6717.846433275491",
         "9900.583941376932",
         "2.25597415901821",
         "0.00201752001839811"
        ],
        [
         "std",
         "0.0",
         "123306.79716433848",
         "123122.08777619714",
         "0.732924109485572",
         "0.04487171357472356"
        ],
        [
         "min",
         "256.0",
         "-1000000.0",
         "2.0",
         "0.0",
         "0.0"
        ],
        [
         "25%",
         "256.0",
         "-50.0",
         "275.0",
         "2.0",
         "0.0"
        ],
        [
         "50%",
         "256.0",
         "1000.0",
         "1000.0",
         "2.0",
         "0.0"
        ],
        [
         "75%",
         "256.0",
         "2800.0",
         "5000.0",
         "2.0",
         "0.0"
        ],
        [
         "max",
         "256.0",
         "9880000.0",
         "9880000.0",
         "4.0",
         "1.0"
        ]
       ],
       "shape": {
        "columns": 5,
        "rows": 8
       }
      },
      "text/html": [
       "<div>\n",
       "<style scoped>\n",
       "    .dataframe tbody tr th:only-of-type {\n",
       "        vertical-align: middle;\n",
       "    }\n",
       "\n",
       "    .dataframe tbody tr th {\n",
       "        vertical-align: top;\n",
       "    }\n",
       "\n",
       "    .dataframe thead th {\n",
       "        text-align: right;\n",
       "    }\n",
       "</style>\n",
       "<table border=\"1\" class=\"dataframe\">\n",
       "  <thead>\n",
       "    <tr style=\"text-align: right;\">\n",
       "      <th></th>\n",
       "      <th>CountryCode</th>\n",
       "      <th>Amount</th>\n",
       "      <th>Value</th>\n",
       "      <th>PricingStrategy</th>\n",
       "      <th>FraudResult</th>\n",
       "    </tr>\n",
       "  </thead>\n",
       "  <tbody>\n",
       "    <tr>\n",
       "      <th>count</th>\n",
       "      <td>95662.0</td>\n",
       "      <td>9.566200e+04</td>\n",
       "      <td>9.566200e+04</td>\n",
       "      <td>95662.000000</td>\n",
       "      <td>95662.000000</td>\n",
       "    </tr>\n",
       "    <tr>\n",
       "      <th>mean</th>\n",
       "      <td>256.0</td>\n",
       "      <td>6.717846e+03</td>\n",
       "      <td>9.900584e+03</td>\n",
       "      <td>2.255974</td>\n",
       "      <td>0.002018</td>\n",
       "    </tr>\n",
       "    <tr>\n",
       "      <th>std</th>\n",
       "      <td>0.0</td>\n",
       "      <td>1.233068e+05</td>\n",
       "      <td>1.231221e+05</td>\n",
       "      <td>0.732924</td>\n",
       "      <td>0.044872</td>\n",
       "    </tr>\n",
       "    <tr>\n",
       "      <th>min</th>\n",
       "      <td>256.0</td>\n",
       "      <td>-1.000000e+06</td>\n",
       "      <td>2.000000e+00</td>\n",
       "      <td>0.000000</td>\n",
       "      <td>0.000000</td>\n",
       "    </tr>\n",
       "    <tr>\n",
       "      <th>25%</th>\n",
       "      <td>256.0</td>\n",
       "      <td>-5.000000e+01</td>\n",
       "      <td>2.750000e+02</td>\n",
       "      <td>2.000000</td>\n",
       "      <td>0.000000</td>\n",
       "    </tr>\n",
       "    <tr>\n",
       "      <th>50%</th>\n",
       "      <td>256.0</td>\n",
       "      <td>1.000000e+03</td>\n",
       "      <td>1.000000e+03</td>\n",
       "      <td>2.000000</td>\n",
       "      <td>0.000000</td>\n",
       "    </tr>\n",
       "    <tr>\n",
       "      <th>75%</th>\n",
       "      <td>256.0</td>\n",
       "      <td>2.800000e+03</td>\n",
       "      <td>5.000000e+03</td>\n",
       "      <td>2.000000</td>\n",
       "      <td>0.000000</td>\n",
       "    </tr>\n",
       "    <tr>\n",
       "      <th>max</th>\n",
       "      <td>256.0</td>\n",
       "      <td>9.880000e+06</td>\n",
       "      <td>9.880000e+06</td>\n",
       "      <td>4.000000</td>\n",
       "      <td>1.000000</td>\n",
       "    </tr>\n",
       "  </tbody>\n",
       "</table>\n",
       "</div>"
      ],
      "text/plain": [
       "       CountryCode        Amount         Value  PricingStrategy   FraudResult\n",
       "count      95662.0  9.566200e+04  9.566200e+04     95662.000000  95662.000000\n",
       "mean         256.0  6.717846e+03  9.900584e+03         2.255974      0.002018\n",
       "std            0.0  1.233068e+05  1.231221e+05         0.732924      0.044872\n",
       "min          256.0 -1.000000e+06  2.000000e+00         0.000000      0.000000\n",
       "25%          256.0 -5.000000e+01  2.750000e+02         2.000000      0.000000\n",
       "50%          256.0  1.000000e+03  1.000000e+03         2.000000      0.000000\n",
       "75%          256.0  2.800000e+03  5.000000e+03         2.000000      0.000000\n",
       "max          256.0  9.880000e+06  9.880000e+06         4.000000      1.000000"
      ]
     },
     "metadata": {},
     "output_type": "display_data"
    },
    {
     "name": "stdout",
     "output_type": "stream",
     "text": [
      "**************************************************\n",
      "Categorical Description:\n",
      "--------------------------------------------------\n"
     ]
    },
    {
     "data": {
      "application/vnd.microsoft.datawrangler.viewer.v0+json": {
       "columns": [
        {
         "name": "index",
         "rawType": "object",
         "type": "string"
        },
        {
         "name": "TransactionId",
         "rawType": "object",
         "type": "unknown"
        },
        {
         "name": "BatchId",
         "rawType": "object",
         "type": "unknown"
        },
        {
         "name": "AccountId",
         "rawType": "object",
         "type": "unknown"
        },
        {
         "name": "SubscriptionId",
         "rawType": "object",
         "type": "unknown"
        },
        {
         "name": "CustomerId",
         "rawType": "object",
         "type": "unknown"
        },
        {
         "name": "CurrencyCode",
         "rawType": "object",
         "type": "unknown"
        },
        {
         "name": "ProviderId",
         "rawType": "object",
         "type": "unknown"
        },
        {
         "name": "ProductId",
         "rawType": "object",
         "type": "unknown"
        },
        {
         "name": "ProductCategory",
         "rawType": "object",
         "type": "unknown"
        },
        {
         "name": "ChannelId",
         "rawType": "object",
         "type": "unknown"
        },
        {
         "name": "TransactionStartTime",
         "rawType": "object",
         "type": "unknown"
        }
       ],
       "ref": "fbca3a46-c675-4eaf-a82d-e7fb3a0b86dc",
       "rows": [
        [
         "count",
         "95662",
         "95662",
         "95662",
         "95662",
         "95662",
         "95662",
         "95662",
         "95662",
         "95662",
         "95662",
         "95662"
        ],
        [
         "unique",
         "95662",
         "94809",
         "3633",
         "3627",
         "3742",
         "1",
         "6",
         "23",
         "9",
         "4",
         "94556"
        ],
        [
         "top",
         "TransactionId_76871",
         "BatchId_67019",
         "AccountId_4841",
         "SubscriptionId_3829",
         "CustomerId_7343",
         "UGX",
         "ProviderId_4",
         "ProductId_6",
         "financial_services",
         "ChannelId_3",
         "2018-12-24T16:30:13Z"
        ],
        [
         "freq",
         "1",
         "28",
         "30893",
         "32630",
         "4091",
         "95662",
         "38189",
         "32635",
         "45405",
         "56935",
         "17"
        ]
       ],
       "shape": {
        "columns": 11,
        "rows": 4
       }
      },
      "text/html": [
       "<div>\n",
       "<style scoped>\n",
       "    .dataframe tbody tr th:only-of-type {\n",
       "        vertical-align: middle;\n",
       "    }\n",
       "\n",
       "    .dataframe tbody tr th {\n",
       "        vertical-align: top;\n",
       "    }\n",
       "\n",
       "    .dataframe thead th {\n",
       "        text-align: right;\n",
       "    }\n",
       "</style>\n",
       "<table border=\"1\" class=\"dataframe\">\n",
       "  <thead>\n",
       "    <tr style=\"text-align: right;\">\n",
       "      <th></th>\n",
       "      <th>TransactionId</th>\n",
       "      <th>BatchId</th>\n",
       "      <th>AccountId</th>\n",
       "      <th>SubscriptionId</th>\n",
       "      <th>CustomerId</th>\n",
       "      <th>CurrencyCode</th>\n",
       "      <th>ProviderId</th>\n",
       "      <th>ProductId</th>\n",
       "      <th>ProductCategory</th>\n",
       "      <th>ChannelId</th>\n",
       "      <th>TransactionStartTime</th>\n",
       "    </tr>\n",
       "  </thead>\n",
       "  <tbody>\n",
       "    <tr>\n",
       "      <th>count</th>\n",
       "      <td>95662</td>\n",
       "      <td>95662</td>\n",
       "      <td>95662</td>\n",
       "      <td>95662</td>\n",
       "      <td>95662</td>\n",
       "      <td>95662</td>\n",
       "      <td>95662</td>\n",
       "      <td>95662</td>\n",
       "      <td>95662</td>\n",
       "      <td>95662</td>\n",
       "      <td>95662</td>\n",
       "    </tr>\n",
       "    <tr>\n",
       "      <th>unique</th>\n",
       "      <td>95662</td>\n",
       "      <td>94809</td>\n",
       "      <td>3633</td>\n",
       "      <td>3627</td>\n",
       "      <td>3742</td>\n",
       "      <td>1</td>\n",
       "      <td>6</td>\n",
       "      <td>23</td>\n",
       "      <td>9</td>\n",
       "      <td>4</td>\n",
       "      <td>94556</td>\n",
       "    </tr>\n",
       "    <tr>\n",
       "      <th>top</th>\n",
       "      <td>TransactionId_76871</td>\n",
       "      <td>BatchId_67019</td>\n",
       "      <td>AccountId_4841</td>\n",
       "      <td>SubscriptionId_3829</td>\n",
       "      <td>CustomerId_7343</td>\n",
       "      <td>UGX</td>\n",
       "      <td>ProviderId_4</td>\n",
       "      <td>ProductId_6</td>\n",
       "      <td>financial_services</td>\n",
       "      <td>ChannelId_3</td>\n",
       "      <td>2018-12-24T16:30:13Z</td>\n",
       "    </tr>\n",
       "    <tr>\n",
       "      <th>freq</th>\n",
       "      <td>1</td>\n",
       "      <td>28</td>\n",
       "      <td>30893</td>\n",
       "      <td>32630</td>\n",
       "      <td>4091</td>\n",
       "      <td>95662</td>\n",
       "      <td>38189</td>\n",
       "      <td>32635</td>\n",
       "      <td>45405</td>\n",
       "      <td>56935</td>\n",
       "      <td>17</td>\n",
       "    </tr>\n",
       "  </tbody>\n",
       "</table>\n",
       "</div>"
      ],
      "text/plain": [
       "              TransactionId        BatchId       AccountId  \\\n",
       "count                 95662          95662           95662   \n",
       "unique                95662          94809            3633   \n",
       "top     TransactionId_76871  BatchId_67019  AccountId_4841   \n",
       "freq                      1             28           30893   \n",
       "\n",
       "             SubscriptionId       CustomerId CurrencyCode    ProviderId  \\\n",
       "count                 95662            95662        95662         95662   \n",
       "unique                 3627             3742            1             6   \n",
       "top     SubscriptionId_3829  CustomerId_7343          UGX  ProviderId_4   \n",
       "freq                  32630             4091        95662         38189   \n",
       "\n",
       "          ProductId     ProductCategory    ChannelId  TransactionStartTime  \n",
       "count         95662               95662        95662                 95662  \n",
       "unique           23                   9            4                 94556  \n",
       "top     ProductId_6  financial_services  ChannelId_3  2018-12-24T16:30:13Z  \n",
       "freq          32635               45405        56935                    17  "
      ]
     },
     "metadata": {},
     "output_type": "display_data"
    },
    {
     "name": "stdout",
     "output_type": "stream",
     "text": [
      "**************************************************\n"
     ]
    }
   ],
   "source": [
    "# describe the numerical columns\n",
    "numerical_columns = data.select_dtypes(include=['number']).columns\n",
    "categorical_columns = data.select_dtypes(include=['object']).columns\n",
    "# describe the numerical columns\n",
    "numerical_description = data[numerical_columns].describe()\n",
    "# describe the categorical columns\n",
    "categorical_description = data[categorical_columns].describe()\n",
    "# print the numerical description\n",
    "print(\"Numerical Description:\")\n",
    "print(50* \"-\")\n",
    "display(numerical_description)\n",
    "print(50* \"*\")\n",
    "# print the categorical description\n",
    "print(\"Categorical Description:\")\n",
    "print(50* \"-\")\n",
    "display(categorical_description)\n",
    "print(50* \"*\")\n",
    "\n"
   ]
  },
  {
   "cell_type": "markdown",
   "id": "2cdea2de",
   "metadata": {},
   "source": [
    "### Distribution of Numerical Features"
   ]
  },
  {
   "cell_type": "code",
   "execution_count": null,
   "id": "c970b9ab",
   "metadata": {},
   "outputs": [],
   "source": []
  }
 ],
 "metadata": {
  "kernelspec": {
   "display_name": ".venv",
   "language": "python",
   "name": "python3"
  },
  "language_info": {
   "codemirror_mode": {
    "name": "ipython",
    "version": 3
   },
   "file_extension": ".py",
   "mimetype": "text/x-python",
   "name": "python",
   "nbconvert_exporter": "python",
   "pygments_lexer": "ipython3",
   "version": "3.13.3"
  }
 },
 "nbformat": 4,
 "nbformat_minor": 5
}
