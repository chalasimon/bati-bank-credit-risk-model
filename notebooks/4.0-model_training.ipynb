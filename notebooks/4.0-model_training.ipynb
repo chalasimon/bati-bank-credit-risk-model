{
 "cells": [
  {
   "cell_type": "markdown",
   "id": "65bd7a94",
   "metadata": {},
   "source": [
    "# Task 5: Model Training and Evaluation"
   ]
  },
  {
   "cell_type": "code",
   "execution_count": 1,
   "id": "ac72bb65",
   "metadata": {},
   "outputs": [],
   "source": [
    "import sys\n",
    "import os\n",
    "import pandas as pd\n",
    "from glob import glob"
   ]
  },
  {
   "cell_type": "code",
   "execution_count": 2,
   "id": "f3e90df3",
   "metadata": {},
   "outputs": [],
   "source": [
    "from pathlib import Path\n",
    "from importlib import reload\n",
    "# add project root to sys.path\n",
    "project_root = Path('..').resolve()\n",
    "if str(project_root) not in sys.path:\n",
    "    sys.path.append(str(project_root))"
   ]
  },
  {
   "cell_type": "code",
   "execution_count": 3,
   "id": "9e5b8de6",
   "metadata": {},
   "outputs": [
    {
     "data": {
      "text/plain": [
       "<module 'src.data_loader' from 'D:\\\\Research & Project\\\\10academy\\\\week 5\\\\Challenge\\\\bati-bank-credit-risk-model\\\\src\\\\data_loader.py'>"
      ]
     },
     "execution_count": 3,
     "metadata": {},
     "output_type": "execute_result"
    }
   ],
   "source": [
    "# import the module to load the data into dataframes\n",
    "from src.data_loader import DataLoader\n",
    "import src.data_loader  \n",
    "reload(src.data_loader)"
   ]
  },
  {
   "cell_type": "code",
   "execution_count": 4,
   "id": "e3af6b54",
   "metadata": {},
   "outputs": [
    {
     "name": "stdout",
     "output_type": "stream",
     "text": [
      "Data loaded successfully.\n"
     ]
    },
    {
     "data": {
      "application/vnd.microsoft.datawrangler.viewer.v0+json": {
       "columns": [
        {
         "name": "index",
         "rawType": "int64",
         "type": "integer"
        },
        {
         "name": "TransactionId",
         "rawType": "object",
         "type": "string"
        },
        {
         "name": "BatchId",
         "rawType": "object",
         "type": "string"
        },
        {
         "name": "AccountId",
         "rawType": "object",
         "type": "string"
        },
        {
         "name": "SubscriptionId",
         "rawType": "object",
         "type": "string"
        },
        {
         "name": "CustomerId",
         "rawType": "int64",
         "type": "integer"
        },
        {
         "name": "CurrencyCode",
         "rawType": "object",
         "type": "string"
        },
        {
         "name": "CountryCode",
         "rawType": "int64",
         "type": "integer"
        },
        {
         "name": "ProviderId",
         "rawType": "int64",
         "type": "integer"
        },
        {
         "name": "ProductId",
         "rawType": "object",
         "type": "string"
        },
        {
         "name": "ProductCategory",
         "rawType": "int64",
         "type": "integer"
        },
        {
         "name": "ChannelId",
         "rawType": "int64",
         "type": "integer"
        },
        {
         "name": "Amount",
         "rawType": "float64",
         "type": "float"
        },
        {
         "name": "Value",
         "rawType": "int64",
         "type": "integer"
        },
        {
         "name": "TransactionStartTime",
         "rawType": "object",
         "type": "string"
        },
        {
         "name": "PricingStrategy",
         "rawType": "int64",
         "type": "integer"
        },
        {
         "name": "FraudResult",
         "rawType": "int64",
         "type": "integer"
        },
        {
         "name": "total_transaction_amount",
         "rawType": "float64",
         "type": "float"
        },
        {
         "name": "average_transaction_amount",
         "rawType": "float64",
         "type": "float"
        },
        {
         "name": "transaction_count",
         "rawType": "int64",
         "type": "integer"
        },
        {
         "name": "std_transaction_amount",
         "rawType": "float64",
         "type": "float"
        },
        {
         "name": "TransactionHour",
         "rawType": "int64",
         "type": "integer"
        },
        {
         "name": "TransactionDay",
         "rawType": "int64",
         "type": "integer"
        },
        {
         "name": "TransactionMonth",
         "rawType": "int64",
         "type": "integer"
        },
        {
         "name": "TransactionYear",
         "rawType": "int64",
         "type": "integer"
        },
        {
         "name": "ProductCategory_data_bundles",
         "rawType": "float64",
         "type": "float"
        },
        {
         "name": "ProductCategory_financial_services",
         "rawType": "float64",
         "type": "float"
        },
        {
         "name": "ProductCategory_movies",
         "rawType": "float64",
         "type": "float"
        },
        {
         "name": "ProductCategory_other",
         "rawType": "float64",
         "type": "float"
        },
        {
         "name": "ProductCategory_ticket",
         "rawType": "float64",
         "type": "float"
        },
        {
         "name": "ProductCategory_transport",
         "rawType": "float64",
         "type": "float"
        },
        {
         "name": "ProductCategory_tv",
         "rawType": "float64",
         "type": "float"
        },
        {
         "name": "ProductCategory_utility_bill",
         "rawType": "float64",
         "type": "float"
        },
        {
         "name": "ProviderId_ProviderId_2",
         "rawType": "float64",
         "type": "float"
        },
        {
         "name": "ProviderId_ProviderId_3",
         "rawType": "float64",
         "type": "float"
        },
        {
         "name": "ProviderId_ProviderId_4",
         "rawType": "float64",
         "type": "float"
        },
        {
         "name": "ProviderId_ProviderId_5",
         "rawType": "float64",
         "type": "float"
        },
        {
         "name": "ProviderId_ProviderId_6",
         "rawType": "float64",
         "type": "float"
        },
        {
         "name": "ChannelId_ChannelId_2",
         "rawType": "float64",
         "type": "float"
        },
        {
         "name": "ChannelId_ChannelId_3",
         "rawType": "float64",
         "type": "float"
        },
        {
         "name": "ChannelId_ChannelId_5",
         "rawType": "float64",
         "type": "float"
        },
        {
         "name": "is_high_risk",
         "rawType": "int64",
         "type": "integer"
        }
       ],
       "ref": "f1872019-99c6-47ef-96e2-9915ed3f7367",
       "rows": [
        [
         "0",
         "TransactionId_76871",
         "BatchId_36123",
         "AccountId_3957",
         "SubscriptionId_887",
         "4406",
         "UGX",
         "256",
         "5",
         "ProductId_10",
         "0",
         "2",
         "-0.0463711364715905",
         "1000",
         "2018-11-15 02:18:49+00:00",
         "2",
         "0",
         "0.0",
         "0.0",
         "95662",
         "123306.79716433848",
         "2",
         "15",
         "11",
         "2018",
         "0.0",
         "0.0",
         "0.0",
         "0.0",
         "0.0",
         "0.0",
         "0.0",
         "0.0",
         "0.0",
         "0.0",
         "0.0",
         "0.0",
         "1.0",
         "0.0",
         "1.0",
         "0.0",
         "0"
        ],
        [
         "1",
         "TransactionId_73770",
         "BatchId_15642",
         "AccountId_4841",
         "SubscriptionId_3829",
         "4406",
         "UGX",
         "256",
         "3",
         "ProductId_6",
         "2",
         "1",
         "-0.0546432297768195",
         "20",
         "2018-11-15 02:19:08+00:00",
         "2",
         "0",
         "0.0",
         "0.0",
         "95662",
         "123306.79716433848",
         "2",
         "15",
         "11",
         "2018",
         "0.0",
         "1.0",
         "0.0",
         "0.0",
         "0.0",
         "0.0",
         "0.0",
         "0.0",
         "0.0",
         "0.0",
         "1.0",
         "0.0",
         "0.0",
         "1.0",
         "0.0",
         "0.0",
         "0"
        ],
        [
         "2",
         "TransactionId_26203",
         "BatchId_53941",
         "AccountId_4229",
         "SubscriptionId_222",
         "4683",
         "UGX",
         "256",
         "5",
         "ProductId_1",
         "0",
         "2",
         "-0.050426084170232",
         "500",
         "2018-11-15 02:44:21+00:00",
         "2",
         "0",
         "0.0",
         "0.0",
         "95662",
         "123306.79716433848",
         "2",
         "15",
         "11",
         "2018",
         "0.0",
         "0.0",
         "0.0",
         "0.0",
         "0.0",
         "0.0",
         "0.0",
         "0.0",
         "0.0",
         "0.0",
         "0.0",
         "0.0",
         "1.0",
         "0.0",
         "1.0",
         "0.0",
         "1"
        ],
        [
         "3",
         "TransactionId_380",
         "BatchId_102363",
         "AccountId_648",
         "SubscriptionId_2185",
         "988",
         "UGX",
         "256",
         "0",
         "ProductId_21",
         "8",
         "2",
         "0.1077168760767859",
         "21800",
         "2018-11-15 03:32:55+00:00",
         "2",
         "0",
         "0.0",
         "0.0",
         "95662",
         "123306.79716433848",
         "3",
         "15",
         "11",
         "2018",
         "0.0",
         "0.0",
         "0.0",
         "0.0",
         "0.0",
         "0.0",
         "0.0",
         "1.0",
         "0.0",
         "0.0",
         "0.0",
         "0.0",
         "0.0",
         "0.0",
         "1.0",
         "0.0",
         "0"
        ],
        [
         "4",
         "TransactionId_28195",
         "BatchId_38780",
         "AccountId_4841",
         "SubscriptionId_3829",
         "988",
         "UGX",
         "256",
         "3",
         "ProductId_6",
         "2",
         "1",
         "-0.0597038045047237",
         "644",
         "2018-11-15 03:34:21+00:00",
         "2",
         "0",
         "0.0",
         "0.0",
         "95662",
         "123306.79716433848",
         "3",
         "15",
         "11",
         "2018",
         "0.0",
         "1.0",
         "0.0",
         "0.0",
         "0.0",
         "0.0",
         "0.0",
         "0.0",
         "0.0",
         "0.0",
         "1.0",
         "0.0",
         "0.0",
         "1.0",
         "0.0",
         "0.0",
         "0"
        ]
       ],
       "shape": {
        "columns": 41,
        "rows": 5
       }
      },
      "text/html": [
       "<div>\n",
       "<style scoped>\n",
       "    .dataframe tbody tr th:only-of-type {\n",
       "        vertical-align: middle;\n",
       "    }\n",
       "\n",
       "    .dataframe tbody tr th {\n",
       "        vertical-align: top;\n",
       "    }\n",
       "\n",
       "    .dataframe thead th {\n",
       "        text-align: right;\n",
       "    }\n",
       "</style>\n",
       "<table border=\"1\" class=\"dataframe\">\n",
       "  <thead>\n",
       "    <tr style=\"text-align: right;\">\n",
       "      <th></th>\n",
       "      <th>TransactionId</th>\n",
       "      <th>BatchId</th>\n",
       "      <th>AccountId</th>\n",
       "      <th>SubscriptionId</th>\n",
       "      <th>CustomerId</th>\n",
       "      <th>CurrencyCode</th>\n",
       "      <th>CountryCode</th>\n",
       "      <th>ProviderId</th>\n",
       "      <th>ProductId</th>\n",
       "      <th>ProductCategory</th>\n",
       "      <th>...</th>\n",
       "      <th>ProductCategory_utility_bill</th>\n",
       "      <th>ProviderId_ProviderId_2</th>\n",
       "      <th>ProviderId_ProviderId_3</th>\n",
       "      <th>ProviderId_ProviderId_4</th>\n",
       "      <th>ProviderId_ProviderId_5</th>\n",
       "      <th>ProviderId_ProviderId_6</th>\n",
       "      <th>ChannelId_ChannelId_2</th>\n",
       "      <th>ChannelId_ChannelId_3</th>\n",
       "      <th>ChannelId_ChannelId_5</th>\n",
       "      <th>is_high_risk</th>\n",
       "    </tr>\n",
       "  </thead>\n",
       "  <tbody>\n",
       "    <tr>\n",
       "      <th>0</th>\n",
       "      <td>TransactionId_76871</td>\n",
       "      <td>BatchId_36123</td>\n",
       "      <td>AccountId_3957</td>\n",
       "      <td>SubscriptionId_887</td>\n",
       "      <td>4406</td>\n",
       "      <td>UGX</td>\n",
       "      <td>256</td>\n",
       "      <td>5</td>\n",
       "      <td>ProductId_10</td>\n",
       "      <td>0</td>\n",
       "      <td>...</td>\n",
       "      <td>0.0</td>\n",
       "      <td>0.0</td>\n",
       "      <td>0.0</td>\n",
       "      <td>0.0</td>\n",
       "      <td>0.0</td>\n",
       "      <td>1.0</td>\n",
       "      <td>0.0</td>\n",
       "      <td>1.0</td>\n",
       "      <td>0.0</td>\n",
       "      <td>0</td>\n",
       "    </tr>\n",
       "    <tr>\n",
       "      <th>1</th>\n",
       "      <td>TransactionId_73770</td>\n",
       "      <td>BatchId_15642</td>\n",
       "      <td>AccountId_4841</td>\n",
       "      <td>SubscriptionId_3829</td>\n",
       "      <td>4406</td>\n",
       "      <td>UGX</td>\n",
       "      <td>256</td>\n",
       "      <td>3</td>\n",
       "      <td>ProductId_6</td>\n",
       "      <td>2</td>\n",
       "      <td>...</td>\n",
       "      <td>0.0</td>\n",
       "      <td>0.0</td>\n",
       "      <td>0.0</td>\n",
       "      <td>1.0</td>\n",
       "      <td>0.0</td>\n",
       "      <td>0.0</td>\n",
       "      <td>1.0</td>\n",
       "      <td>0.0</td>\n",
       "      <td>0.0</td>\n",
       "      <td>0</td>\n",
       "    </tr>\n",
       "    <tr>\n",
       "      <th>2</th>\n",
       "      <td>TransactionId_26203</td>\n",
       "      <td>BatchId_53941</td>\n",
       "      <td>AccountId_4229</td>\n",
       "      <td>SubscriptionId_222</td>\n",
       "      <td>4683</td>\n",
       "      <td>UGX</td>\n",
       "      <td>256</td>\n",
       "      <td>5</td>\n",
       "      <td>ProductId_1</td>\n",
       "      <td>0</td>\n",
       "      <td>...</td>\n",
       "      <td>0.0</td>\n",
       "      <td>0.0</td>\n",
       "      <td>0.0</td>\n",
       "      <td>0.0</td>\n",
       "      <td>0.0</td>\n",
       "      <td>1.0</td>\n",
       "      <td>0.0</td>\n",
       "      <td>1.0</td>\n",
       "      <td>0.0</td>\n",
       "      <td>1</td>\n",
       "    </tr>\n",
       "    <tr>\n",
       "      <th>3</th>\n",
       "      <td>TransactionId_380</td>\n",
       "      <td>BatchId_102363</td>\n",
       "      <td>AccountId_648</td>\n",
       "      <td>SubscriptionId_2185</td>\n",
       "      <td>988</td>\n",
       "      <td>UGX</td>\n",
       "      <td>256</td>\n",
       "      <td>0</td>\n",
       "      <td>ProductId_21</td>\n",
       "      <td>8</td>\n",
       "      <td>...</td>\n",
       "      <td>1.0</td>\n",
       "      <td>0.0</td>\n",
       "      <td>0.0</td>\n",
       "      <td>0.0</td>\n",
       "      <td>0.0</td>\n",
       "      <td>0.0</td>\n",
       "      <td>0.0</td>\n",
       "      <td>1.0</td>\n",
       "      <td>0.0</td>\n",
       "      <td>0</td>\n",
       "    </tr>\n",
       "    <tr>\n",
       "      <th>4</th>\n",
       "      <td>TransactionId_28195</td>\n",
       "      <td>BatchId_38780</td>\n",
       "      <td>AccountId_4841</td>\n",
       "      <td>SubscriptionId_3829</td>\n",
       "      <td>988</td>\n",
       "      <td>UGX</td>\n",
       "      <td>256</td>\n",
       "      <td>3</td>\n",
       "      <td>ProductId_6</td>\n",
       "      <td>2</td>\n",
       "      <td>...</td>\n",
       "      <td>0.0</td>\n",
       "      <td>0.0</td>\n",
       "      <td>0.0</td>\n",
       "      <td>1.0</td>\n",
       "      <td>0.0</td>\n",
       "      <td>0.0</td>\n",
       "      <td>1.0</td>\n",
       "      <td>0.0</td>\n",
       "      <td>0.0</td>\n",
       "      <td>0</td>\n",
       "    </tr>\n",
       "  </tbody>\n",
       "</table>\n",
       "<p>5 rows × 41 columns</p>\n",
       "</div>"
      ],
      "text/plain": [
       "         TransactionId         BatchId       AccountId       SubscriptionId  \\\n",
       "0  TransactionId_76871   BatchId_36123  AccountId_3957   SubscriptionId_887   \n",
       "1  TransactionId_73770   BatchId_15642  AccountId_4841  SubscriptionId_3829   \n",
       "2  TransactionId_26203   BatchId_53941  AccountId_4229   SubscriptionId_222   \n",
       "3    TransactionId_380  BatchId_102363   AccountId_648  SubscriptionId_2185   \n",
       "4  TransactionId_28195   BatchId_38780  AccountId_4841  SubscriptionId_3829   \n",
       "\n",
       "   CustomerId CurrencyCode  CountryCode  ProviderId     ProductId  \\\n",
       "0        4406          UGX          256           5  ProductId_10   \n",
       "1        4406          UGX          256           3   ProductId_6   \n",
       "2        4683          UGX          256           5   ProductId_1   \n",
       "3         988          UGX          256           0  ProductId_21   \n",
       "4         988          UGX          256           3   ProductId_6   \n",
       "\n",
       "   ProductCategory  ...  ProductCategory_utility_bill  \\\n",
       "0                0  ...                           0.0   \n",
       "1                2  ...                           0.0   \n",
       "2                0  ...                           0.0   \n",
       "3                8  ...                           1.0   \n",
       "4                2  ...                           0.0   \n",
       "\n",
       "   ProviderId_ProviderId_2  ProviderId_ProviderId_3 ProviderId_ProviderId_4  \\\n",
       "0                      0.0                      0.0                     0.0   \n",
       "1                      0.0                      0.0                     1.0   \n",
       "2                      0.0                      0.0                     0.0   \n",
       "3                      0.0                      0.0                     0.0   \n",
       "4                      0.0                      0.0                     1.0   \n",
       "\n",
       "   ProviderId_ProviderId_5  ProviderId_ProviderId_6  ChannelId_ChannelId_2  \\\n",
       "0                      0.0                      1.0                    0.0   \n",
       "1                      0.0                      0.0                    1.0   \n",
       "2                      0.0                      1.0                    0.0   \n",
       "3                      0.0                      0.0                    0.0   \n",
       "4                      0.0                      0.0                    1.0   \n",
       "\n",
       "   ChannelId_ChannelId_3  ChannelId_ChannelId_5  is_high_risk  \n",
       "0                    1.0                    0.0             0  \n",
       "1                    0.0                    0.0             0  \n",
       "2                    1.0                    0.0             1  \n",
       "3                    1.0                    0.0             0  \n",
       "4                    0.0                    0.0             0  \n",
       "\n",
       "[5 rows x 41 columns]"
      ]
     },
     "execution_count": 4,
     "metadata": {},
     "output_type": "execute_result"
    }
   ],
   "source": [
    "# Load the dataset\n",
    "data_loader = DataLoader('../data/processed/df_with_risk.csv')\n",
    "df = data_loader.load_data()\n",
    "print(\"Data loaded successfully.\")\n",
    "df.head()"
   ]
  },
  {
   "cell_type": "code",
   "execution_count": 5,
   "id": "77c244c9",
   "metadata": {},
   "outputs": [],
   "source": [
    "df = df.drop(columns=['TransactionId','SubscriptionId','AccountId','ProductId','BatchId',\n",
    "                      'CustomerId','CurrencyCode','CountryCode','TransactionStartTime',\n",
    "                      'TransactionYear','TransactionDay','PricingStrategy','TransactionHour','TransactionMonth'])"
   ]
  },
  {
   "cell_type": "code",
   "execution_count": 6,
   "id": "6bd663b4",
   "metadata": {},
   "outputs": [
    {
     "name": "stdout",
     "output_type": "stream",
     "text": [
      "['ProviderId', 'ProductCategory', 'ChannelId', 'Amount', 'Value', 'FraudResult', 'total_transaction_amount', 'average_transaction_amount', 'transaction_count', 'std_transaction_amount', 'ProductCategory_data_bundles', 'ProductCategory_financial_services', 'ProductCategory_movies', 'ProductCategory_other', 'ProductCategory_ticket', 'ProductCategory_transport', 'ProductCategory_tv', 'ProductCategory_utility_bill', 'ProviderId_ProviderId_2', 'ProviderId_ProviderId_3', 'ProviderId_ProviderId_4', 'ProviderId_ProviderId_5', 'ProviderId_ProviderId_6', 'ChannelId_ChannelId_2', 'ChannelId_ChannelId_3', 'ChannelId_ChannelId_5', 'is_high_risk']\n"
     ]
    }
   ],
   "source": [
    "print(df.columns.to_list())"
   ]
  },
  {
   "cell_type": "code",
   "execution_count": 9,
   "id": "6a144027",
   "metadata": {},
   "outputs": [
    {
     "data": {
      "text/plain": [
       "<module 'src.train' from 'D:\\\\Research & Project\\\\10academy\\\\week 5\\\\Challenge\\\\bati-bank-credit-risk-model\\\\src\\\\train.py'>"
      ]
     },
     "execution_count": 9,
     "metadata": {},
     "output_type": "execute_result"
    }
   ],
   "source": [
    "# Load the model\n",
    "from src.train import CR_Trainer\n",
    "import src.train\n",
    "reload(src.train)"
   ]
  },
  {
   "cell_type": "code",
   "execution_count": 10,
   "id": "13b5e8a5",
   "metadata": {},
   "outputs": [],
   "source": [
    "# initialize the trainer\n",
    "trainer = CR_Trainer(df)\n"
   ]
  },
  {
   "cell_type": "code",
   "execution_count": 11,
   "id": "0b5064cf",
   "metadata": {},
   "outputs": [
    {
     "name": "stderr",
     "output_type": "stream",
     "text": [
      "d:\\Research & Project\\10academy\\week 5\\Challenge\\bati-bank-credit-risk-model\\.venv\\Lib\\site-packages\\sklearn\\metrics\\_classification.py:1706: UndefinedMetricWarning: Precision is ill-defined and being set to 0.0 due to no predicted samples. Use `zero_division` parameter to control this behavior.\n",
      "  _warn_prf(average, modifier, f\"{metric.capitalize()} is\", result.shape[0])\n"
     ]
    },
    {
     "name": "stdout",
     "output_type": "stream",
     "text": [
      "LogisticRegression Metrics: {'accuracy': 0.8828202581926514, 'precision': 0.0, 'recall': 0.0, 'f1_score': 0.0, 'roc_auc': 0.5695566752686361}\n"
     ]
    },
    {
     "name": "stderr",
     "output_type": "stream",
     "text": [
      "2025/07/03 23:36:14 WARNING mlflow.models.model: `artifact_path` is deprecated. Please use `name` instead.\n",
      "2025/07/03 23:36:25 WARNING mlflow.models.model: Model logged without a signature and input example. Please set `input_example` parameter when logging the model to auto infer the model signature.\n",
      "2025/07/03 23:36:32 WARNING mlflow.models.model: `artifact_path` is deprecated. Please use `name` instead.\n"
     ]
    },
    {
     "name": "stdout",
     "output_type": "stream",
     "text": [
      "RandomForest Metrics: {'accuracy': 0.8823498667224168, 'precision': 0.4794520547945205, 'recall': 0.04683318465655665, 'f1_score': 0.08533116619260463, 'roc_auc': 0.6301435488318314}\n"
     ]
    },
    {
     "name": "stderr",
     "output_type": "stream",
     "text": [
      "2025/07/03 23:36:39 WARNING mlflow.models.model: Model logged without a signature and input example. Please set `input_example` parameter when logging the model to auto infer the model signature.\n"
     ]
    }
   ],
   "source": [
    "# Run the pipeline\n",
    "trainer.run_pipeline()"
   ]
  }
 ],
 "metadata": {
  "kernelspec": {
   "display_name": ".venv",
   "language": "python",
   "name": "python3"
  },
  "language_info": {
   "codemirror_mode": {
    "name": "ipython",
    "version": 3
   },
   "file_extension": ".py",
   "mimetype": "text/x-python",
   "name": "python",
   "nbconvert_exporter": "python",
   "pygments_lexer": "ipython3",
   "version": "3.13.3"
  }
 },
 "nbformat": 4,
 "nbformat_minor": 5
}
