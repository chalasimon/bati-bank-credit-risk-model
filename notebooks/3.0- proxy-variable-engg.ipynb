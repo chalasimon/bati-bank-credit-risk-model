{
 "cells": [
  {
   "cell_type": "markdown",
   "id": "7784256f",
   "metadata": {},
   "source": [
    "# Task 4: Proxy Target Variable Engineering "
   ]
  },
  {
   "cell_type": "code",
   "execution_count": 1,
   "id": "71855fe3",
   "metadata": {},
   "outputs": [],
   "source": [
    "import sys\n",
    "import os\n",
    "import pandas as pd\n",
    "from glob import glob"
   ]
  },
  {
   "cell_type": "code",
   "execution_count": 2,
   "id": "29cb06f1",
   "metadata": {},
   "outputs": [],
   "source": [
    "from pathlib import Path\n",
    "from importlib import reload\n",
    "# add project root to sys.path\n",
    "project_root = Path('..').resolve()\n",
    "if str(project_root) not in sys.path:\n",
    "    sys.path.append(str(project_root))"
   ]
  },
  {
   "cell_type": "code",
   "execution_count": 3,
   "id": "dac58f1e",
   "metadata": {},
   "outputs": [
    {
     "data": {
      "text/plain": [
       "<module 'src.data_loader' from 'D:\\\\Research & Project\\\\10academy\\\\week 5\\\\Challenge\\\\bati-bank-credit-risk-model\\\\src\\\\data_loader.py'>"
      ]
     },
     "execution_count": 3,
     "metadata": {},
     "output_type": "execute_result"
    }
   ],
   "source": [
    "# import the module to load the data into dataframes\n",
    "from src.data_loader import DataLoader\n",
    "import src.data_loader  \n",
    "reload(src.data_loader)"
   ]
  },
  {
   "cell_type": "markdown",
   "id": "ef16750b",
   "metadata": {},
   "source": [
    "## Load the dataset"
   ]
  },
  {
   "cell_type": "code",
   "execution_count": 4,
   "id": "9e942159",
   "metadata": {},
   "outputs": [],
   "source": [
    "# Load the dataset\n",
    "data_loader = DataLoader('../data/processed/processed_data.csv')\n",
    "df = data_loader.load_data()"
   ]
  }
 ],
 "metadata": {
  "kernelspec": {
   "display_name": ".venv",
   "language": "python",
   "name": "python3"
  },
  "language_info": {
   "codemirror_mode": {
    "name": "ipython",
    "version": 3
   },
   "file_extension": ".py",
   "mimetype": "text/x-python",
   "name": "python",
   "nbconvert_exporter": "python",
   "pygments_lexer": "ipython3",
   "version": "3.13.3"
  }
 },
 "nbformat": 4,
 "nbformat_minor": 5
}
